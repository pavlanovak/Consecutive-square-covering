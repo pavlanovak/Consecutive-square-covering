{
 "cells": [
  {
   "cell_type": "code",
   "execution_count": 3,
   "metadata": {},
   "outputs": [],
   "source": [
    "# %load CLP_pokrivanje.sage\n",
    "#!/usr/bin/env python\n",
    "\n",
    "import json\n",
    "import sys\n",
    "import time\n",
    "\n",
    "def pokrivanje(n, r=1):\n",
    "    meja = floor(sqrt((n * (n + 1) * (2*n + 1)) / (r * 6)))\n",
    "    p = MixedIntegerLinearProgram(maximization=True)\n",
    "\n",
    "    w = p.new_variable(binary=True)\n",
    "    y = p.new_variable(binary=True)\n",
    "    z = p.new_variable(binary=True)\n",
    "    p.set_objective(sum(z[l] for l in range(1, meja + 1))) ##ciljna funkcija\n",
    "    p.add_constraint(z[0] == 1) ## robni pogoj, kvadrat velikosti 0 lahko vedno pokrijemo\n",
    "    for i in range(1, n + 1):\n",
    "        p.add_constraint(sum(w[i,u,v] for u in range(1, meja + 1) for v in range(1, meja + 1)) == 1) ##pogoj, da imamo največ en kvadrat dolžine i\n",
    "    for j in range(1, meja + 1):\n",
    "        for k in range(1, meja + 1):\n",
    "            p.add_constraint(r*y[j,k] <= sum(w[i,u,v] ## pogoj, da je kvadratek (j,k) pokrit vsaj r-krat\n",
    "                                             for i in range(1, n + 1)\n",
    "                                             for u in range(max(1, j - i + 1), j + 1)\n",
    "                                             for v in range(max(1, k - i + 1), k + 1)))\n",
    "    for l in range(1, meja + 1):\n",
    "        p.add_constraint(2*l*z[l] <= (z[l-1] + y[l,l] + sum((y[m,l] +y[l,m]) for m in range(1, l)))) ## pogoj, da je kvadrat lxl pokrit\n",
    "\n",
    "    t = p.solve()  ##vrne velikost največjega kvadrata, ki ga dobimo s pokrivanjem.\n",
    "\n",
    "\n",
    "    resw = p.get_values(w)\n",
    "    resy = p.get_values(y)\n",
    "    resz = p.get_values(z)\n",
    "    kvadratki = []\n",
    "    for (x,y) in resy.items():\n",
    "        if y == 1:\n",
    "            kvadratki.append(x)\n",
    "    KVADRATI = []\n",
    "    for (x,y) in resw.items():\n",
    "        if y == 1:\n",
    "            KVADRATI.append(x)\n",
    "\n",
    "    return (t, KVADRATI)  ## vrne izhodišča kvadratov v optimalni rešitvi\n",
    "\n",
    "def pozeni(n, r=1, podatki=None, datoteka='pokrivanje.json'):\n",
    "    if podatki is None:\n",
    "        podatki = {}\n",
    "    print(f\"pokrivanje({n}, {r})\", end=\" \")\n",
    "    sys.stdout.flush()\n",
    "    start = time.time()\n",
    "    t, kvadrati = pokrivanje(n, r)\n",
    "    end = time.time()\n",
    "    cas = end-start\n",
    "    print(f\"-> {t}, cas = {cas:.2f}\")\n",
    "    podatki[n, r] = (t, kvadrati, cas)\n",
    "    with open(datoteka, \"w\") as f:\n",
    "        json.dump([{\"n\": int(nn), \"r\": int(rr), \"velikost\": int(t), \"kvadrati\": kv, \"cas\": c}\n",
    "                  for (nn, rr), (t, kv, c) in podatki.items()], f, indent=4)\n",
    "\n",
    "def preberi_podatke():\n",
    "    try:\n",
    "        with open(datoteka) as f:\n",
    "            podatki = {(d[\"n\"], d[\"r\"]): (d[\"velikost\"], d[\"kvadrati\"], d[\"cas\"]) for d in json.load(f)}\n",
    "    except (FileNotFoundError, json.JSONDecodeError):\n",
    "        print(\"Branje ni uspelo, začenjam znova\")\n",
    "        podatki = {}\n",
    "    return podatki\n"
   ]
  },
  {
   "cell_type": "code",
   "execution_count": 6,
   "metadata": {},
   "outputs": [
    {
     "name": "stdout",
     "output_type": "stream",
     "text": [
      "pokrivanje(1, 1) -> 1.0, cas = 0.00\n",
      "pokrivanje(2, 2) -> 1.0, cas = 0.00\n",
      "pokrivanje(2, 1) -> 2.0, cas = 0.00\n",
      "pokrivanje(3, 3) -> 1.0, cas = 0.00\n",
      "pokrivanje(3, 2) -> 2.0, cas = 0.00\n",
      "pokrivanje(3, 1) -> 3.0, cas = 0.00\n",
      "pokrivanje(4, 4) -> 1.0, cas = 0.00\n",
      "pokrivanje(4, 3) -> 2.0, cas = 0.01\n",
      "pokrivanje(4, 2) -> 3.0, cas = 0.00\n",
      "pokrivanje(4, 1) -> 4.0, cas = 0.01\n",
      "pokrivanje(5, 5) -> 1.0, cas = 0.00\n",
      "pokrivanje(5, 4) -> 2.0, cas = 0.00\n",
      "pokrivanje(5, 3) -> 3.0, cas = 0.01\n",
      "pokrivanje(5, 2) -> 4.0, cas = 0.01\n",
      "pokrivanje(5, 1) -> 6.0, cas = 0.30\n"
     ]
    }
   ],
   "source": [
    "# %load poganjanje.sage\n",
    "#!/usr/bin/env python\n",
    "\n",
    "datoteka = 'pokrivanje.json'\n",
    "podatki = preberi_podatke()\n",
    "for n in range(1, 6): \n",
    "    for r in range(n, 0, -1): \n",
    "        pozeni(n, r, podatki=podatki, datoteka=datoteka)\n"
   ]
  },
  {
   "cell_type": "code",
   "execution_count": null,
   "metadata": {},
   "outputs": [],
   "source": [
    "velikost = podatki[8, 4] # primer: podatki za n = 8, r = 4"
   ]
  }
 ],
 "metadata": {
  "kernelspec": {
   "display_name": "SageMath 9.7",
   "language": "sagemath",
   "metadata": {
    "cocalc": {
     "description": "Open-source mathematical software system",
     "priority": 10,
     "url": "https://www.sagemath.org/"
    }
   },
   "name": "sage-9.7",
   "resource_dir": "/ext/jupyter/kernels/sage-9.7"
  },
  "language_info": {
   "codemirror_mode": {
    "name": "ipython",
    "version": 3
   },
   "file_extension": ".py",
   "mimetype": "text/x-python",
   "name": "python",
   "nbconvert_exporter": "python",
   "pygments_lexer": "ipython3",
   "version": "3.10.5"
  }
 },
 "nbformat": 4,
 "nbformat_minor": 4
}