{
 "cells": [
  {
   "cell_type": "code",
   "execution_count": 2,
   "metadata": {},
   "outputs": [],
   "source": [
    "# %load CLP_pokrivanje.sage\n",
    "#!/usr/bin/env python\n",
    "\n",
    "from __future__ import print_function\n",
    "\n",
    "import json\n",
    "import six\n",
    "import sys\n",
    "import time\n",
    "\n",
    "if six.PY2:\n",
    "    FileNotFoundError = IOError\n",
    "    json.JSONDecodeError = ValueError\n",
    "\n",
    "DATOTEKA = 'pokrivanje.json'\n",
    "\n",
    "def pokrivanje(n, r=1):\n",
    "    meja = floor(sqrt((n * (n + 1) * (2*n + 1)) / (r * 6)))\n",
    "    p = MixedIntegerLinearProgram(maximization=True)\n",
    "\n",
    "    w = p.new_variable(binary=True)\n",
    "    y = p.new_variable(binary=True)\n",
    "    z = p.new_variable(binary=True)\n",
    "    p.set_objective(sum(z[l] for l in range(1, meja + 1))) ##ciljna funkcija\n",
    "    p.add_constraint(z[0] == 1) ## robni pogoj, kvadrat velikosti 0 lahko vedno pokrijemo\n",
    "    for i in range(1, n + 1):\n",
    "        p.add_constraint(sum(w[i,u,v] for u in range(1, meja + 1) for v in range(1, meja + 1)) == 1) ##pogoj, da imamo največ en kvadrat dolžine i\n",
    "    for j in range(1, meja + 1):\n",
    "        for k in range(1, meja + 1):\n",
    "            p.add_constraint(r*y[j,k] <= sum(w[i,u,v] ## pogoj, da je kvadratek (j,k) pokrit vsaj r-krat\n",
    "                                             for i in range(1, n + 1)\n",
    "                                             for u in range(max(1, j - i + 1), j + 1)\n",
    "                                             for v in range(max(1, k - i + 1), k + 1)))\n",
    "    for l in range(1, meja + 1):\n",
    "        p.add_constraint(2*l*z[l] <= (z[l-1] + y[l,l] + sum((y[m,l] +y[l,m]) for m in range(1, l)))) ## pogoj, da je kvadrat lxl pokrit\n",
    "\n",
    "    t = p.solve()  ##vrne velikost največjega kvadrata, ki ga dobimo s pokrivanjem.\n",
    "\n",
    "\n",
    "    resw = p.get_values(w)\n",
    "    resy = p.get_values(y)\n",
    "    resz = p.get_values(z)\n",
    "    kvadratki = []\n",
    "    for (x,y) in resy.items():\n",
    "        if y == 1:\n",
    "            kvadratki.append(x)\n",
    "    KVADRATI = []\n",
    "    for (x,y) in resw.items():\n",
    "        if y == 1:\n",
    "            KVADRATI.append(x)\n",
    "\n",
    "    return (t, KVADRATI)  ## vrne izhodišča kvadratov v optimalni rešitvi\n",
    "\n",
    "def pozeni(n, r=1, podatki=None, datoteka=DATOTEKA):\n",
    "    if podatki is None:\n",
    "        podatki = {}\n",
    "    print(\"pokrivanje(%d, %d)\" % (n, r), end=\" \")\n",
    "    sys.stdout.flush()\n",
    "    start = time.time()\n",
    "    t, kvadrati = pokrivanje(n, r)\n",
    "    end = time.time()\n",
    "    cas = end-start\n",
    "    print(\"-> %d, cas = %.2f\" % (t, cas))\n",
    "    podatki[n, r] = (t, kvadrati, cas)\n",
    "    with open(datoteka, \"w\") as f:\n",
    "        json.dump([{\"n\": int(nn), \"r\": int(rr), \"velikost\": int(t), \"kvadrati\": kv, \"cas\": c}\n",
    "                  for (nn, rr), (t, kv, c) in sorted(podatki.items())], f, indent=4)\n",
    "\n",
    "def preberi_podatke(datoteka=DATOTEKA):\n",
    "    try:\n",
    "        with open(datoteka) as f:\n",
    "            podatki = {(d[\"n\"], d[\"r\"]): (d[\"velikost\"], d[\"kvadrati\"], d[\"cas\"]) for d in json.load(f)}\n",
    "    except (FileNotFoundError, json.JSONDecodeError):\n",
    "        print(\"Branje ni uspelo, začenjam znova\")\n",
    "        podatki = {}\n",
    "    return podatki\n"
   ]
  },
  {
   "cell_type": "code",
   "execution_count": 4,
   "metadata": {},
   "outputs": [
    {
     "name": "stdout",
     "output_type": "stream",
     "text": [
      "pokrivanje(1, 1) -> 1, cas = 0.04\n",
      "pokrivanje(2, 2) -> 1, cas = 0.00\n",
      "pokrivanje(2, 1) -> 2, cas = 0.00\n",
      "pokrivanje(3, 3) -> 1, cas = 0.00\n",
      "pokrivanje(3, 2) -> 2, cas = 0.00\n",
      "pokrivanje(3, 1) -> 3, cas = 0.00\n",
      "pokrivanje(4, 4) -> 1, cas = 0.00\n",
      "pokrivanje(4, 3) -> 2, cas = 0.00\n",
      "pokrivanje(4, 2) -> 3, cas = 0.00\n",
      "pokrivanje(4, 1) -> 4, cas = 0.01\n",
      "pokrivanje(5, 5) -> 1, cas = 0.00\n",
      "pokrivanje(5, 4) -> 2, cas = 0.00\n",
      "pokrivanje(5, 3) -> 3, cas = 0.01\n",
      "pokrivanje(5, 2) -> 4, cas = 0.01\n",
      "pokrivanje(5, 1) -> 6, cas = 0.28\n"
     ]
    }
   ],
   "source": [
    "# %load poganjanje.sage\n",
    "#!/usr/bin/env python\n",
    "\n",
    "datoteka = 'pokrivanje.json'\n",
    "podatki = preberi_podatke(datoteka)\n",
    "for n in range(1, 6):\n",
    "    for r in range(n, 0, -1):\n",
    "        pozeni(n, r, podatki=podatki, datoteka=datoteka)\n"
   ]
  },
  {
   "cell_type": "code",
   "execution_count": 5,
   "metadata": {},
   "outputs": [
    {
     "data": {
      "text/plain": [
       "(6, 0.04350399971008301)"
      ]
     },
     "execution_count": 5,
     "metadata": {},
     "output_type": "execute_result"
    }
   ],
   "source": [
    "velikost, kvadrati, cas = podatki[8, 4] # primer: podatki za n = 8, r = 4\n",
    "(velikost, cas)"
   ]
  },
  {
   "cell_type": "code",
   "execution_count": 6,
   "metadata": {},
   "outputs": [
    {
     "data": {
      "text/plain": [
       "[[5, 1, 2],\n",
       " [4, 3, 1],\n",
       " [7, 1, 1],\n",
       " [3, 4, 4],\n",
       " [6, 1, 1],\n",
       " [2, 1, 1],\n",
       " [8, 1, 1],\n",
       " [1, 2, 7]]"
      ]
     },
     "execution_count": 6,
     "metadata": {},
     "output_type": "execute_result"
    }
   ],
   "source": [
    "kvadrati"
   ]
  },
  {
   "cell_type": "code",
   "execution_count": 8,
   "metadata": {},
   "outputs": [
    {
     "data": {
      "text/plain": [
       "(21, 2302.75945186615)"
      ]
     },
     "execution_count": 8,
     "metadata": {},
     "output_type": "execute_result"
    }
   ],
   "source": [
    "podatki2 = preberi_podatke('pokrivanje2.json')\n",
    "velikost2, kvadrati2, cas2 = podatki2[16, 3] # primer: podatki za n = 16, r = 3\n",
    "(velikost2, cas2)"
   ]
  },
  {
   "cell_type": "code",
   "execution_count": 9,
   "metadata": {},
   "outputs": [
    {
     "data": {
      "text/plain": [
       "[[5, 17, 1],\n",
       " [14, 1, 1],\n",
       " [4, 18, 6],\n",
       " [7, 15, 1],\n",
       " [1, 17, 6],\n",
       " [9, 13, 1],\n",
       " [11, 11, 11],\n",
       " [15, 7, 7],\n",
       " [10, 1, 12],\n",
       " [2, 20, 10],\n",
       " [16, 1, 1],\n",
       " [13, 9, 10],\n",
       " [3, 17, 8],\n",
       " [12, 1, 1],\n",
       " [6, 1, 16],\n",
       " [8, 1, 15]]"
      ]
     },
     "execution_count": 9,
     "metadata": {},
     "output_type": "execute_result"
    }
   ],
   "source": [
    "kvadrati2"
   ]
  }
 ],
 "metadata": {
  "kernelspec": {
   "display_name": "SageMath 9.7",
   "language": "sagemath",
   "metadata": {
    "cocalc": {
     "description": "Open-source mathematical software system",
     "priority": 10,
     "url": "https://www.sagemath.org/"
    }
   },
   "name": "sage-9.7",
   "resource_dir": "/ext/jupyter/kernels/sage-9.7"
  },
  "language_info": {
   "codemirror_mode": {
    "name": "ipython",
    "version": 3
   },
   "file_extension": ".py",
   "mimetype": "text/x-python",
   "name": "python",
   "nbconvert_exporter": "python",
   "pygments_lexer": "ipython3",
   "version": "3.10.5"
  }
 },
 "nbformat": 4,
 "nbformat_minor": 4
}